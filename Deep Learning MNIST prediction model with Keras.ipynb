{
 "cells": [
  {
   "cell_type": "markdown",
   "metadata": {},
   "source": [
    "The MNIST (Modified National Institute of Standards and Technology) dataset consists of images of handwritten digits that is used for training and testing image processing systems"
   ]
  },
  {
   "cell_type": "markdown",
   "metadata": {},
   "source": [
    "This is a multiclass classification problem in which the goal is to predict a single discrete label (0,1,2,3,4,5,6,7,8,9)\n",
    "\n",
    "This notebook is used to generate a predictive model for the production system"
   ]
  },
  {
   "cell_type": "code",
   "execution_count": 1,
   "metadata": {},
   "outputs": [],
   "source": [
    "import os\n",
    "\n",
    "import matplotlib.pyplot as plt  # plotting\n",
    "import numpy as np  # linear algebra\n",
    "from skimage import io, transform, util\n",
    "from tensorflow.keras import layers, models\n",
    "from tensorflow.keras.datasets import mnist  # mnist dataset\n",
    "from tensorflow.keras.models import load_model\n",
    "from tensorflow.keras.utils import to_categorical"
   ]
  },
  {
   "cell_type": "markdown",
   "metadata": {},
   "source": [
    "Loading MNIST dataset"
   ]
  },
  {
   "cell_type": "code",
   "execution_count": 2,
   "metadata": {},
   "outputs": [],
   "source": [
    "(train_images, train_labels), (test_images, test_labels) = mnist.load_data()"
   ]
  },
  {
   "cell_type": "code",
   "execution_count": 3,
   "metadata": {},
   "outputs": [
    {
     "data": {
      "text/plain": [
       "(60000, 28, 28)"
      ]
     },
     "execution_count": 3,
     "metadata": {},
     "output_type": "execute_result"
    }
   ],
   "source": [
    "train_images.shape"
   ]
  },
  {
   "cell_type": "code",
   "execution_count": 4,
   "metadata": {},
   "outputs": [
    {
     "data": {
      "text/plain": [
       "(10000, 28, 28)"
      ]
     },
     "execution_count": 4,
     "metadata": {},
     "output_type": "execute_result"
    }
   ],
   "source": [
    "test_images.shape"
   ]
  },
  {
   "cell_type": "markdown",
   "metadata": {},
   "source": [
    "Linear model definition"
   ]
  },
  {
   "cell_type": "markdown",
   "metadata": {},
   "source": [
    "The output of the network is a layer of size 10 with a probability distribution over the 10 different classes"
   ]
  },
  {
   "cell_type": "code",
   "execution_count": 5,
   "metadata": {},
   "outputs": [],
   "source": [
    "model = models.Sequential()\n",
    "model.add(layers.Dense(512, activation=\"relu\", input_shape=(28 * 28,)))\n",
    "model.add(layers.Dense(10, activation=\"softmax\"))"
   ]
  },
  {
   "cell_type": "markdown",
   "metadata": {},
   "source": [
    "Compiling the model"
   ]
  },
  {
   "cell_type": "markdown",
   "metadata": {},
   "source": [
    "The chosen loss function is categorical_crossentropy because is a multiclass classification problem"
   ]
  },
  {
   "cell_type": "code",
   "execution_count": 6,
   "metadata": {},
   "outputs": [],
   "source": [
    "model.compile(optimizer=\"rmsprop\", loss=\"categorical_crossentropy\", metrics=[\"accuracy\"])"
   ]
  },
  {
   "cell_type": "markdown",
   "metadata": {},
   "source": [
    "Encoding the data"
   ]
  },
  {
   "cell_type": "code",
   "execution_count": 7,
   "metadata": {},
   "outputs": [],
   "source": [
    "train_images_prepared = train_images.reshape((60000, 28 * 28))\n",
    "train_images_prepared = train_images_prepared.astype(\"float32\") / 255\n",
    "\n",
    "test_images_prepared = test_images.reshape((10000, 28 * 28))\n",
    "test_images_prepared = test_images_prepared.astype(\"float32\") / 255"
   ]
  },
  {
   "cell_type": "code",
   "execution_count": 8,
   "metadata": {},
   "outputs": [],
   "source": [
    "train_labels_one_hot = to_categorical(train_labels)\n",
    "test_labels_one_hot = to_categorical(test_labels)"
   ]
  },
  {
   "cell_type": "markdown",
   "metadata": {},
   "source": [
    "Setting a validation set of 6000 samples from 60000 training images"
   ]
  },
  {
   "cell_type": "code",
   "execution_count": 9,
   "metadata": {},
   "outputs": [],
   "source": [
    "train_images_val = train_images_prepared[:6000]\n",
    "train_images_partial = train_images_prepared[6000:]\n",
    "\n",
    "train_labels_val = train_labels_one_hot[:6000]\n",
    "train_labels_partial = train_labels_one_hot[6000:]"
   ]
  },
  {
   "cell_type": "markdown",
   "metadata": {},
   "source": [
    "Training the model for 10 epochs or passes over the entire dataset"
   ]
  },
  {
   "cell_type": "code",
   "execution_count": 10,
   "metadata": {},
   "outputs": [
    {
     "name": "stdout",
     "output_type": "stream",
     "text": [
      "Epoch 1/10\n"
     ]
    },
    {
     "name": "stderr",
     "output_type": "stream",
     "text": [
      "2024-03-31 21:18:56.862940: W external/local_tsl/tsl/framework/cpu_allocator_impl.cc:83] Allocation of 169344000 exceeds 10% of free system memory.\n"
     ]
    },
    {
     "name": "stdout",
     "output_type": "stream",
     "text": [
      "\u001b[1m422/422\u001b[0m \u001b[32m━━━━━━━━━━━━━━━━━━━━\u001b[0m\u001b[37m\u001b[0m \u001b[1m1s\u001b[0m 2ms/step - accuracy: 0.8670 - loss: 0.4630 - val_accuracy: 0.9535 - val_loss: 0.1597\n",
      "Epoch 2/10\n",
      "\u001b[1m422/422\u001b[0m \u001b[32m━━━━━━━━━━━━━━━━━━━━\u001b[0m\u001b[37m\u001b[0m \u001b[1m1s\u001b[0m 2ms/step - accuracy: 0.9642 - loss: 0.1230 - val_accuracy: 0.9687 - val_loss: 0.1054\n",
      "Epoch 3/10\n",
      "\u001b[1m422/422\u001b[0m \u001b[32m━━━━━━━━━━━━━━━━━━━━\u001b[0m\u001b[37m\u001b[0m \u001b[1m1s\u001b[0m 2ms/step - accuracy: 0.9777 - loss: 0.0754 - val_accuracy: 0.9762 - val_loss: 0.0829\n",
      "Epoch 4/10\n",
      "\u001b[1m422/422\u001b[0m \u001b[32m━━━━━━━━━━━━━━━━━━━━\u001b[0m\u001b[37m\u001b[0m \u001b[1m1s\u001b[0m 2ms/step - accuracy: 0.9848 - loss: 0.0531 - val_accuracy: 0.9810 - val_loss: 0.0675\n",
      "Epoch 5/10\n",
      "\u001b[1m422/422\u001b[0m \u001b[32m━━━━━━━━━━━━━━━━━━━━\u001b[0m\u001b[37m\u001b[0m \u001b[1m1s\u001b[0m 2ms/step - accuracy: 0.9887 - loss: 0.0384 - val_accuracy: 0.9807 - val_loss: 0.0637\n",
      "Epoch 6/10\n",
      "\u001b[1m422/422\u001b[0m \u001b[32m━━━━━━━━━━━━━━━━━━━━\u001b[0m\u001b[37m\u001b[0m \u001b[1m1s\u001b[0m 2ms/step - accuracy: 0.9917 - loss: 0.0285 - val_accuracy: 0.9803 - val_loss: 0.0656\n",
      "Epoch 7/10\n",
      "\u001b[1m422/422\u001b[0m \u001b[32m━━━━━━━━━━━━━━━━━━━━\u001b[0m\u001b[37m\u001b[0m \u001b[1m1s\u001b[0m 2ms/step - accuracy: 0.9940 - loss: 0.0220 - val_accuracy: 0.9805 - val_loss: 0.0666\n",
      "Epoch 8/10\n",
      "\u001b[1m422/422\u001b[0m \u001b[32m━━━━━━━━━━━━━━━━━━━━\u001b[0m\u001b[37m\u001b[0m \u001b[1m1s\u001b[0m 2ms/step - accuracy: 0.9960 - loss: 0.0152 - val_accuracy: 0.9813 - val_loss: 0.0594\n",
      "Epoch 9/10\n",
      "\u001b[1m422/422\u001b[0m \u001b[32m━━━━━━━━━━━━━━━━━━━━\u001b[0m\u001b[37m\u001b[0m \u001b[1m1s\u001b[0m 2ms/step - accuracy: 0.9970 - loss: 0.0121 - val_accuracy: 0.9783 - val_loss: 0.0678\n",
      "Epoch 10/10\n",
      "\u001b[1m422/422\u001b[0m \u001b[32m━━━━━━━━━━━━━━━━━━━━\u001b[0m\u001b[37m\u001b[0m \u001b[1m1s\u001b[0m 2ms/step - accuracy: 0.9983 - loss: 0.0086 - val_accuracy: 0.9822 - val_loss: 0.0673\n"
     ]
    }
   ],
   "source": [
    "history = model.fit(\n",
    "    train_images_partial,\n",
    "    train_labels_partial,\n",
    "    epochs=10,\n",
    "    batch_size=128,\n",
    "    validation_data=(train_images_val, train_labels_val),\n",
    ")"
   ]
  },
  {
   "cell_type": "markdown",
   "metadata": {},
   "source": [
    "Plotting training and validation loss"
   ]
  },
  {
   "cell_type": "code",
   "execution_count": 11,
   "metadata": {},
   "outputs": [
    {
     "data": {
      "image/png": "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