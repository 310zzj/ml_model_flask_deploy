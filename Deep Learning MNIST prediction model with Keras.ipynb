{
 "cells": [
  {
   "cell_type": "markdown",
   "metadata": {},
   "source": [
    "The MNIST (Modified National Institute of Standards and Technology) dataset consists of images of handwritten digits that is used for training and testing image processing systems"
   ]
  },
  {
   "cell_type": "markdown",
   "metadata": {},
   "source": [
    "This is a multiclass classification problem in which the goal is to predict a single discrete label (0,1,2,3,4,5,6,7,8,9)\n",
    "\n",
    "This notebook is used to generate a predictive model for the production system"
   ]
  },
  {
   "cell_type": "code",
   "execution_count": 1,
   "metadata": {},
   "outputs": [],
   "source": [
    "import os\n",
    "\n",
    "import matplotlib.pyplot as plt  # plotting\n",
    "import numpy as np  # linear algebra\n",
    "from skimage import io, transform, util\n",
    "from tensorflow.keras import layers, models\n",
    "from tensorflow.keras.datasets import mnist  # mnist dataset\n",
    "from tensorflow.keras.models import load_model\n",
    "from tensorflow.keras.utils import to_categorical"
   ]
  },
  {
   "cell_type": "markdown",
   "metadata": {},
   "source": [
    "Loading MNIST dataset"
   ]
  },
  {
   "cell_type": "code",
   "execution_count": 2,
   "metadata": {},
   "outputs": [],
   "source": [
    "(train_images, train_labels), (test_images, test_labels) = mnist.load_data()"
   ]
  },
  {
   "cell_type": "code",
   "execution_count": 3,
   "metadata": {},
   "outputs": [
    {
     "data": {
      "text/plain": [
       "(60000, 28, 28)"
      ]
     },
     "execution_count": 3,
     "metadata": {},
     "output_type": "execute_result"
    }
   ],
   "source": [
    "train_images.shape"
   ]
  },
  {
   "cell_type": "code",
   "execution_count": 4,
   "metadata": {},
   "outputs": [
    {
     "data": {
      "text/plain": [
       "(10000, 28, 28)"
      ]
     },
     "execution_count": 4,
     "metadata": {},
     "output_type": "execute_result"
    }
   ],
   "source": [
    "test_images.shape"
   ]
  },
  {
   "cell_type": "markdown",
   "metadata": {},
   "source": [
    "Linear model definition"
   ]
  },
  {
   "cell_type": "markdown",
   "metadata": {},
   "source": [
    "The output of the network is a layer of size 10 with a probability distribution over the 10 different classes"
   ]
  },
  {
   "cell_type": "code",
   "execution_count": 5,
   "metadata": {},
   "outputs": [],
   "source": [
    "model = models.Sequential()\n",
    "model.add(layers.Dense(512, activation=\"relu\", input_shape=(28 * 28,)))\n",
    "model.add(layers.Dense(10, activation=\"softmax\"))"
   ]
  },
  {
   "cell_type": "markdown",
   "metadata": {},
   "source": [
    "Compiling the model"
   ]
  },
  {
   "cell_type": "markdown",
   "metadata": {},
   "source": [
    "The chosen loss function is categorical_crossentropy because is a multiclass classification problem"
   ]
  },
  {
   "cell_type": "code",
   "execution_count": 6,
   "metadata": {},
   "outputs": [],
   "source": [
    "model.compile(optimizer=\"rmsprop\", loss=\"categorical_crossentropy\", metrics=[\"accuracy\"])"
   ]
  },
  {
   "cell_type": "markdown",
   "metadata": {},
   "source": [
    "Encoding the data"
   ]
  },
  {
   "cell_type": "code",
   "execution_count": 7,
   "metadata": {},
   "outputs": [],
   "source": [
    "train_images_prepared = train_images.reshape((60000, 28 * 28))\n",
    "train_images_prepared = train_images_prepared.astype(\"float32\") / 255\n",
    "\n",
    "test_images_prepared = test_images.reshape((10000, 28 * 28))\n",
    "test_images_prepared = test_images_prepared.astype(\"float32\") / 255"
   ]
  },
  {
   "cell_type": "code",
   "execution_count": 8,
   "metadata": {},
   "outputs": [],
   "source": [
    "train_labels_one_hot = to_categorical(train_labels)\n",
    "test_labels_one_hot = to_categorical(test_labels)"
   ]
  },
  {
   "cell_type": "markdown",
   "metadata": {},
   "source": [
    "Setting a validation set of 6000 samples from 60000 training images"
   ]
  },
  {
   "cell_type": "code",
   "execution_count": 9,
   "metadata": {},
   "outputs": [],
   "source": [
    "train_images_val = train_images_prepared[:6000]\n",
    "train_images_partial = train_images_prepared[6000:]\n",
    "\n",
    "train_labels_val = train_labels_one_hot[:6000]\n",
    "train_labels_partial = train_labels_one_hot[6000:]"
   ]
  },
  {
   "cell_type": "markdown",
   "metadata": {},
   "source": [
    "Training the model for 10 epochs or passes over the entire dataset"
   ]
  },
  {
   "cell_type": "code",
   "execution_count": 10,
   "metadata": {},
   "outputs": [
    {
     "name": "stdout",
     "output_type": "stream",
     "text": [
      "Epoch 1/10\n"
     ]
    },
    {
     "name": "stderr",
     "output_type": "stream",
     "text": [
      "2024-03-31 21:18:56.862940: W external/local_tsl/tsl/framework/cpu_allocator_impl.cc:83] Allocation of 169344000 exceeds 10% of free system memory.\n"
     ]
    },
    {
     "name": "stdout",
     "output_type": "stream",
     "text": [
      "\u001b[1m422/422\u001b[0m \u001b[32m━━━━━━━━━━━━━━━━━━━━\u001b[0m\u001b[37m\u001b[0m \u001b[1m1s\u001b[0m 2ms/step - accuracy: 0.8670 - loss: 0.4630 - val_accuracy: 0.9535 - val_loss: 0.1597\n",
      "Epoch 2/10\n",
      "\u001b[1m422/422\u001b[0m \u001b[32m━━━━━━━━━━━━━━━━━━━━\u001b[0m\u001b[37m\u001b[0m \u001b[1m1s\u001b[0m 2ms/step - accuracy: 0.9642 - loss: 0.1230 - val_accuracy: 0.9687 - val_loss: 0.1054\n",
      "Epoch 3/10\n",
      "\u001b[1m422/422\u001b[0m \u001b[32m━━━━━━━━━━━━━━━━━━━━\u001b[0m\u001b[37m\u001b[0m \u001b[1m1s\u001b[0m 2ms/step - accuracy: 0.9777 - loss: 0.0754 - val_accuracy: 0.9762 - val_loss: 0.0829\n",
      "Epoch 4/10\n",
      "\u001b[1m422/422\u001b[0m \u001b[32m━━━━━━━━━━━━━━━━━━━━\u001b[0m\u001b[37m\u001b[0m \u001b[1m1s\u001b[0m 2ms/step - accuracy: 0.9848 - loss: 0.0531 - val_accuracy: 0.9810 - val_loss: 0.0675\n",
      "Epoch 5/10\n",
      "\u001b[1m422/422\u001b[0m \u001b[32m━━━━━━━━━━━━━━━━━━━━\u001b[0m\u001b[37m\u001b[0m \u001b[1m1s\u001b[0m 2ms/step - accuracy: 0.9887 - loss: 0.0384 - val_accuracy: 0.9807 - val_loss: 0.0637\n",
      "Epoch 6/10\n",
      "\u001b[1m422/422\u001b[0m \u001b[32m━━━━━━━━━━━━━━━━━━━━\u001b[0m\u001b[37m\u001b[0m \u001b[1m1s\u001b[0m 2ms/step - accuracy: 0.9917 - loss: 0.0285 - val_accuracy: 0.9803 - val_loss: 0.0656\n",
      "Epoch 7/10\n",
      "\u001b[1m422/422\u001b[0m \u001b[32m━━━━━━━━━━━━━━━━━━━━\u001b[0m\u001b[37m\u001b[0m \u001b[1m1s\u001b[0m 2ms/step - accuracy: 0.9940 - loss: 0.0220 - val_accuracy: 0.9805 - val_loss: 0.0666\n",
      "Epoch 8/10\n",
      "\u001b[1m422/422\u001b[0m \u001b[32m━━━━━━━━━━━━━━━━━━━━\u001b[0m\u001b[37m\u001b[0m \u001b[1m1s\u001b[0m 2ms/step - accuracy: 0.9960 - loss: 0.0152 - val_accuracy: 0.9813 - val_loss: 0.0594\n",
      "Epoch 9/10\n",
      "\u001b[1m422/422\u001b[0m \u001b[32m━━━━━━━━━━━━━━━━━━━━\u001b[0m\u001b[37m\u001b[0m \u001b[1m1s\u001b[0m 2ms/step - accuracy: 0.9970 - loss: 0.0121 - val_accuracy: 0.9783 - val_loss: 0.0678\n",
      "Epoch 10/10\n",
      "\u001b[1m422/422\u001b[0m \u001b[32m━━━━━━━━━━━━━━━━━━━━\u001b[0m\u001b[37m\u001b[0m \u001b[1m1s\u001b[0m 2ms/step - accuracy: 0.9983 - loss: 0.0086 - val_accuracy: 0.9822 - val_loss: 0.0673\n"
     ]
    }
   ],
   "source": [
    "history = model.fit(\n",
    "    train_images_partial,\n",
    "    train_labels_partial,\n",
    "    epochs=10,\n",
    "    batch_size=128,\n",
    "    validation_data=(train_images_val, train_labels_val),\n",
    ")"
   ]
  },
  {
   "cell_type": "markdown",
   "metadata": {},
   "source": [
    "Plotting training and validation loss"
   ]
  },
  {
   "cell_type": "code",
   "execution_count": 11,
   "metadata": {},
   "outputs": [
    {
     "data": {
      "image/png": "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",
      "text/plain": [
       "<Figure size 640x480 with 1 Axes>"
      ]
     },
     "metadata": {},
     "output_type": "display_data"
    }
   ],
   "source": [
    "loss = history.history[\"loss\"]\n",
    "validation_loss = history.history[\"val_loss\"]\n",
    "epochs = range(1, len(loss) + 1)\n",
    "plt.plot(epochs, loss, \"bo\", label=\"Training loss\")\n",
    "plt.plot(epochs, validation_loss, \"b\", label=\"Validation loss\")\n",
    "plt.title(\"Training and validation loss\")\n",
    "plt.xlabel(\"Epochs\")\n",
    "plt.ylabel(\"Loss\")\n",
    "plt.legend()\n",
    "\n",
    "plt.show()"
   ]
  },
  {
   "cell_type": "markdown",
   "metadata": {},
   "source": [
    "Plotting training and validation accuracy"
   ]
  },
  {
   "cell_type": "code",
   "execution_count": 12,
   "metadata": {},
   "outputs": [
    {
     "data": {
      "image/png": "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